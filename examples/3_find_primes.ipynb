{
 "cells": [
  {
   "cell_type": "code",
   "execution_count": 1,
   "metadata": {},
   "outputs": [],
   "source": [
    "%load_ext autoreload\n",
    "%autoreload 2\n",
    "%matplotlib inline"
   ]
  },
  {
   "cell_type": "code",
   "execution_count": 2,
   "metadata": {},
   "outputs": [],
   "source": [
    "import logging\n",
    "from functools import partial\n",
    "from dask.local import get_async\n",
    "from dask import bag as db\n",
    "from dask import array as da\n",
    "import sprite2\n",
    "import numpy as np\n",
    "from matplotlib import pyplot as plt\n",
    "import sprite2.aws\n",
    "import sprite2.dask\n",
    "import os\n",
    "import math\n",
    "import dask"
   ]
  },
  {
   "cell_type": "code",
   "execution_count": 24,
   "metadata": {},
   "outputs": [],
   "source": [
    "logging.basicConfig(\n",
    "    level=logging.DEBUG,\n",
    "    format='%(levelname)-5s %(asctime)s %(threadName)s: %(message)s')\n",
    "logging.debug(\"test1\")\n",
    "\n",
    "root_logger = logging.getLogger()\n",
    "root_logger.setLevel(logging.ERROR)\n",
    "\n",
    "logger = logging.getLogger('sprite2')\n",
    "logger.setLevel(logging.INFO)"
   ]
  },
  {
   "cell_type": "code",
   "execution_count": 27,
   "metadata": {},
   "outputs": [],
   "source": [
    "def is_prime(n):\n",
    "    if n % 2 == 0 and n > 2: \n",
    "        return False\n",
    "    return all(n % i for i in range(3, int(math.sqrt(n)) + 1, 2))\n",
    "\n",
    "def find_primes(rng):\n",
    "    for i in rng:\n",
    "        if is_prime(i):\n",
    "            yield i"
   ]
  },
  {
   "cell_type": "code",
   "execution_count": 18,
   "metadata": {},
   "outputs": [
    {
     "data": {
      "text/plain": [
       "(100,\n",
       " [range(0, 99999),\n",
       "  range(100000, 199999),\n",
       "  range(200000, 299999),\n",
       "  range(300000, 399999),\n",
       "  range(400000, 499999),\n",
       "  range(500000, 599999),\n",
       "  range(600000, 699999),\n",
       "  range(700000, 799999),\n",
       "  range(800000, 899999),\n",
       "  range(900000, 999999)],\n",
       " [range(9000000, 9099999),\n",
       "  range(9100000, 9199999),\n",
       "  range(9200000, 9299999),\n",
       "  range(9300000, 9399999),\n",
       "  range(9400000, 9499999),\n",
       "  range(9500000, 9599999),\n",
       "  range(9600000, 9699999),\n",
       "  range(9700000, 9799999),\n",
       "  range(9800000, 9899999),\n",
       "  range(9900000, 9999999)])"
      ]
     },
     "execution_count": 18,
     "metadata": {},
     "output_type": "execute_result"
    }
   ],
   "source": [
    "# create 100 ranges of 100,000 numbers\n",
    "start = 0\n",
    "stop = 10000000\n",
    "size = 100000\n",
    "ranges = [range(i,i+size-1) for i in range(start, stop, size)]\n",
    "len(ranges), ranges[:10],ranges[-10:]"
   ]
  },
  {
   "cell_type": "code",
   "execution_count": 19,
   "metadata": {},
   "outputs": [],
   "source": [
    "# for each range, map over range with find_prime function, flatten results\n",
    "d = (db.from_sequence(ranges, partition_size=1)\n",
    "      .map(find_primes)\n",
    "      .flatten())"
   ]
  },
  {
   "cell_type": "code",
   "execution_count": 21,
   "metadata": {},
   "outputs": [
    {
     "name": "stdout",
     "output_type": "stream",
     "text": [
      "CPU times: user 238 ms, sys: 50.9 ms, total: 288 ms\n",
      "Wall time: 41.6 s\n"
     ]
    }
   ],
   "source": [
    "# compute on local machine using multiprocessing (all cores)\n",
    "%time primes = d.compute()"
   ]
  },
  {
   "cell_type": "code",
   "execution_count": 25,
   "metadata": {},
   "outputs": [
    {
     "name": "stdout",
     "output_type": "stream",
     "text": [
      "CPU times: user 1.65 s, sys: 218 ms, total: 1.87 s\n",
      "Wall time: 3.79 s\n"
     ]
    }
   ],
   "source": [
    "# compute on lambda, takes significantly less time\n",
    "%time primes = d.compute(get=sprite2.dask.get)"
   ]
  },
  {
   "cell_type": "code",
   "execution_count": 16,
   "metadata": {},
   "outputs": [
    {
     "data": {
      "text/plain": [
       "(216809, [0, 1, 2, 3, 5], [2999911, 2999921, 2999933, 2999951, 2999957])"
      ]
     },
     "execution_count": 16,
     "metadata": {},
     "output_type": "execute_result"
    }
   ],
   "source": [
    "len(primes), primes[:5], primes[-5:]"
   ]
  },
  {
   "cell_type": "code",
   "execution_count": null,
   "metadata": {},
   "outputs": [],
   "source": []
  }
 ],
 "metadata": {
  "kernelspec": {
   "display_name": "Python 3",
   "language": "python",
   "name": "python3"
  },
  "language_info": {
   "codemirror_mode": {
    "name": "ipython",
    "version": 3
   },
   "file_extension": ".py",
   "mimetype": "text/x-python",
   "name": "python",
   "nbconvert_exporter": "python",
   "pygments_lexer": "ipython3",
   "version": "3.6.5"
  }
 },
 "nbformat": 4,
 "nbformat_minor": 2
}
